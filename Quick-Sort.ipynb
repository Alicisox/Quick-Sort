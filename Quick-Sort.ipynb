{
 "cells": [
  {
   "cell_type": "code",
   "execution_count": 1,
   "metadata": {},
   "outputs": [],
   "source": [
    "items = [4,2,1,8,3,9]"
   ]
  },
  {
   "cell_type": "code",
   "execution_count": null,
   "metadata": {},
   "outputs": [],
   "source": [
    "def quick_sort(low,high):\n",
    "    if low >= high: return\n",
    "    pivot = merge(low,high,pivot) # sort and find new middle ground\n",
    "    quick_sort(low,pivot) # left\n",
    "    quick_sort(pivot+1,high) # right"
   ]
  },
  {
   "cell_type": "code",
   "execution_count": 89,
   "metadata": {},
   "outputs": [],
   "source": [
    "def merge(low,high):\n",
    "    pivot = high # select highest position\n",
    "    i = low\n",
    "    j = high\n",
    "    print(i,j)\n",
    "    while i < j:\n",
    "        while i < j and i < len(arr): # left part\n",
    "            #print('left')\n",
    "            if arr[i] > arr[pivot]:\n",
    "                break\n",
    "            else:\n",
    "                i+=1\n",
    "        while i < j and j < len(arr):\n",
    "            if arr[j] < arr[pivot]:\n",
    "                break\n",
    "            else:\n",
    "                j-=1\n",
    "        print(i,j)\n",
    "        if i < j:\n",
    "            tmp = arr[i]\n",
    "            arr[i] = arr[j]\n",
    "            arr[j] = tmp\n",
    "        elif i == pivot:\n",
    "            pivot = high-1\n",
    "        else:\n",
    "            #print('test')\n",
    "            tmp = arr[pivot]\n",
    "            arr[pivot] = arr[i]\n",
    "            arr[i] = tmp\n",
    "            pivot = j\n",
    "    return pivot"
   ]
  },
  {
   "cell_type": "code",
   "execution_count": 93,
   "metadata": {},
   "outputs": [
    {
     "name": "stdout",
     "output_type": "stream",
     "text": [
      "0 5\n",
      "5 5\n",
      "[4, 2, 1, 8, 3, 9] 4\n",
      "0 4\n",
      "0 2\n",
      "2 2\n",
      "[1, 2, 3, 8, 4, 9] 2\n",
      "0 2\n",
      "2 2\n",
      "[1, 2, 3, 8, 4, 9] 2\n",
      "3 5\n",
      "5 5\n",
      "[1, 2, 3, 8, 4, 9] 4\n",
      "3 4\n",
      "3 3\n",
      "[1, 2, 3, 4, 8, 9] 3\n"
     ]
    }
   ],
   "source": [
    "# test\n",
    "arr = [4,2,1,8,3,9]\n",
    "pivot = merge(0,5)\n",
    "print(arr, pivot)\n",
    "#print(pivot,type(pivot))\n",
    "pivot = merge(0,pivot)\n",
    "print(arr, pivot)\n",
    "merge(0,pivot)\n",
    "print(arr, pivot)\n",
    "pivot = merge(pivot+1,5)\n",
    "print(arr, pivot)\n",
    "pivot = merge(3,4)\n",
    "print(arr, pivot)"
   ]
  },
  {
   "cell_type": "code",
   "execution_count": null,
   "metadata": {},
   "outputs": [],
   "source": []
  }
 ],
 "metadata": {
  "kernelspec": {
   "display_name": "Python 3",
   "language": "python",
   "name": "python3"
  },
  "language_info": {
   "codemirror_mode": {
    "name": "ipython",
    "version": 3
   },
   "file_extension": ".py",
   "mimetype": "text/x-python",
   "name": "python",
   "nbconvert_exporter": "python",
   "pygments_lexer": "ipython3",
   "version": "3.8.5"
  }
 },
 "nbformat": 4,
 "nbformat_minor": 4
}
