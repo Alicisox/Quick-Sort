{
 "cells": [
  {
   "cell_type": "code",
   "execution_count": 103,
   "metadata": {},
   "outputs": [],
   "source": [
    "# for import"
   ]
  },
  {
   "cell_type": "code",
   "execution_count": 119,
   "metadata": {},
   "outputs": [],
   "source": [
    "def quick_sort(left,right):\n",
    "    \"\"\"\n",
    "    Divide and conquer method (recursive version)\n",
    "    Divide list into sublist by using pivot and sorting elements around pivot \n",
    "    then continue doing it until all elements sorted\n",
    "    With run-time complexity of Ο(n^2)\n",
    "    \n",
    "    Args:\n",
    "    left: int. leftest index of list\n",
    "    right: int. rightest index of list\n",
    "    \n",
    "    \"\"\"\n",
    "    if left >= right: return # break recursion if there aren't enough elements to divide\n",
    "    pivot = sort_list(left,right) # sort and find new middle ground\n",
    "    quick_sort(left,pivot) # left part\n",
    "    quick_sort(pivot+1,right) # right part\n",
    "\n",
    "def sort_list(left,right):\n",
    "    \"\"\"\n",
    "    Sort list by rotating elements around pivot until all elements \n",
    "    sorted then choose new pivot for further use\n",
    "    \n",
    "    Args:\n",
    "    left: int. leftest index of list\n",
    "    right: int. rightest index of list\n",
    "    \n",
    "    Return:\n",
    "    pivot: int. return sorted and merged list from left_arr and right_arr list\n",
    "    \n",
    "    \"\"\"\n",
    "    pivot = right # select rightest position as pivot\n",
    "    while left < right: # break loop if element indexes overlap\n",
    "        while left < right: # loop left index\n",
    "            if arr[left] > arr[pivot]:\n",
    "                break\n",
    "            else:\n",
    "                left+=1\n",
    "        while left < right: # loop right index\n",
    "            if arr[right] < arr[pivot]:\n",
    "                break\n",
    "            else:\n",
    "                right-=1\n",
    "        if left < right:\n",
    "            tmp = arr[left]\n",
    "            arr[left] = arr[right]\n",
    "            arr[right] = tmp\n",
    "        elif left == pivot:\n",
    "            pivot = right-1\n",
    "        else:\n",
    "\n",
    "            tmp = arr[pivot]\n",
    "            arr[pivot] = arr[left]\n",
    "            arr[left] = tmp\n",
    "            pivot = right\n",
    "    return pivot"
   ]
  },
  {
   "cell_type": "code",
   "execution_count": 120,
   "metadata": {},
   "outputs": [
    {
     "data": {
      "text/plain": [
       "[1, 2, 3, 4, 8, 9]"
      ]
     },
     "execution_count": 120,
     "metadata": {},
     "output_type": "execute_result"
    }
   ],
   "source": [
    "# testing quick sort\n",
    "arr = [4,2,1,8,3,9]\n",
    "quick_sort(0,len(arr)-1)\n",
    "arr"
   ]
  },
  {
   "cell_type": "code",
   "execution_count": 93,
   "metadata": {},
   "outputs": [
    {
     "name": "stdout",
     "output_type": "stream",
     "text": [
      "0 5\n",
      "5 5\n",
      "[4, 2, 1, 8, 3, 9] 4\n",
      "0 4\n",
      "0 2\n",
      "2 2\n",
      "[1, 2, 3, 8, 4, 9] 2\n",
      "0 2\n",
      "2 2\n",
      "[1, 2, 3, 8, 4, 9] 2\n",
      "3 5\n",
      "5 5\n",
      "[1, 2, 3, 8, 4, 9] 4\n",
      "3 4\n",
      "3 3\n",
      "[1, 2, 3, 4, 8, 9] 3\n"
     ]
    }
   ],
   "source": [
    "# test case\n",
    "arr = [4,2,1,8,3,9]\n",
    "pivot = merge(0,5)\n",
    "print(arr, pivot)\n",
    "#print(pivot,type(pivot))\n",
    "pivot = merge(0,pivot)\n",
    "print(arr, pivot)\n",
    "merge(0,pivot)\n",
    "print(arr, pivot)\n",
    "pivot = merge(pivot+1,5)\n",
    "print(arr, pivot)\n",
    "pivot = merge(3,4)\n",
    "print(arr, pivot)"
   ]
  },
  {
   "cell_type": "code",
   "execution_count": null,
   "metadata": {},
   "outputs": [],
   "source": []
  }
 ],
 "metadata": {
  "kernelspec": {
   "display_name": "Python 3",
   "language": "python",
   "name": "python3"
  },
  "language_info": {
   "codemirror_mode": {
    "name": "ipython",
    "version": 3
   },
   "file_extension": ".py",
   "mimetype": "text/x-python",
   "name": "python",
   "nbconvert_exporter": "python",
   "pygments_lexer": "ipython3",
   "version": "3.8.5"
  }
 },
 "nbformat": 4,
 "nbformat_minor": 4
}
